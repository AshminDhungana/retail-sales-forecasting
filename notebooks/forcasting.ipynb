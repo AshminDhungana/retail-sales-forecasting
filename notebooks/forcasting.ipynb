{
 "cells": [
  {
   "cell_type": "code",
   "execution_count": 4,
   "metadata": {},
   "outputs": [],
   "source": [
    "import pandas as pd\n",
    "import joblib"
   ]
  },
  {
   "cell_type": "code",
   "execution_count": 5,
   "metadata": {},
   "outputs": [
    {
     "name": "stdout",
     "output_type": "stream",
     "text": [
      "Future Data Point (X_future):\n",
      "    store  holiday_flag  temperature  fuel_price         cpi  unemployment  \\\n",
      "0     45             0        58.85       3.882  192.308899         8.667   \n",
      "\n",
      "       lag_1      lag_2      lag_3      lag_4  ...  rolling_mean_12  year  \\\n",
      "0  760281.43  718125.53  734464.36  733455.07  ...    729950.154167  2012   \n",
      "\n",
      "   month  weekofyear  dayofweek  holiday_lag1  temperature_rolling4  \\\n",
      "0     11          44          4             0                 58.67   \n",
      "\n",
      "   fuel_price_rolling4  cpi_rolling4  unemployment_rolling4  \n",
      "0                3.959    192.284357                  8.667  \n",
      "\n",
      "[1 rows x 25 columns]\n"
     ]
    }
   ],
   "source": [
    "\n",
    "df = pd.read_csv(\"../data/walmart_features.csv\")\n",
    "last_row = df.iloc[-1]\n",
    "last_7_sales = df['weekly_sales'].tail(7).tolist()\n",
    "\n",
    "# Define the new date for forecasting. Let's assume the last date was 2012-10-26 and we want to forecast 2012-11-02.\n",
    "last_date = pd.to_datetime(df['date'].iloc[-1])\n",
    "next_date = last_date + pd.DateOffset(weeks=1)\n",
    "\n",
    "# Create a new DataFrame for the future data point\n",
    "X_future = pd.DataFrame({\n",
    "    'store': [last_row['store']],\n",
    "    'holiday_flag': [0], # Assume no holiday\n",
    "    'temperature': [last_row['temperature']], # Use the last known temperature\n",
    "    'fuel_price': [last_row['fuel_price']], # Use the last known fuel price\n",
    "    'cpi': [last_row['cpi']],\n",
    "    'unemployment': [last_row['unemployment']],\n",
    "    \n",
    "    # Lag features based on the last available weekly sales values\n",
    "    'lag_1': [last_7_sales[-1]],\n",
    "    'lag_2': [last_7_sales[-2]],\n",
    "    'lag_3': [last_7_sales[-3]],\n",
    "    'lag_4': [last_7_sales[-4]],\n",
    "    'lag_5': [last_7_sales[-5]],\n",
    "    'lag_6': [last_7_sales[-6]],\n",
    "    'lag_7': [last_7_sales[-7]],\n",
    "\n",
    "    # Rolling mean/std features\n",
    "    'rolling_mean_4': [df['weekly_sales'].tail(4).mean()],\n",
    "    'rolling_std_4': [df['weekly_sales'].tail(4).std()],\n",
    "    'rolling_mean_12': [df['weekly_sales'].tail(12).mean()],\n",
    "    \n",
    "    # Date-related features for the next week\n",
    "    'year': [next_date.year],\n",
    "    'month': [next_date.month],\n",
    "    'weekofyear': [next_date.weekofyear],\n",
    "    'dayofweek': [next_date.dayofweek],\n",
    "    \n",
    "    # Lagged holiday and rolling features of other variables\n",
    "    'holiday_lag1': [last_row['holiday_flag']],\n",
    "    'temperature_rolling4': [df['temperature'].tail(4).mean()],\n",
    "    'fuel_price_rolling4': [df['fuel_price'].tail(4).mean()],\n",
    "    'cpi_rolling4': [df['cpi'].tail(4).mean()],\n",
    "    'unemployment_rolling4': [df['unemployment'].tail(4).mean()],\n",
    "})\n",
    "\n",
    "print(\"Future Data Point (X_future):\\n\", X_future)\n"
   ]
  },
  {
   "cell_type": "code",
   "execution_count": 6,
   "metadata": {},
   "outputs": [
    {
     "name": "stdout",
     "output_type": "stream",
     "text": [
      "\n",
      "Forecast for the next week's sales: 773262.62\n"
     ]
    }
   ],
   "source": [
    "# Load the trained model and make a prediction\n",
    "xgb_best_model = joblib.load(\"../models/xgb_best_model.pkl\")\n",
    "forecast = xgb_best_model.predict(X_future)\n",
    "\n",
    "print(f\"\\nForecast for the next week's sales: {forecast[0]:.2f}\")"
   ]
  }
 ],
 "metadata": {
  "kernelspec": {
   "display_name": "venv_name",
   "language": "python",
   "name": "venv_name"
  },
  "language_info": {
   "codemirror_mode": {
    "name": "ipython",
    "version": 3
   },
   "file_extension": ".py",
   "mimetype": "text/x-python",
   "name": "python",
   "nbconvert_exporter": "python",
   "pygments_lexer": "ipython3",
   "version": "3.13.5"
  }
 },
 "nbformat": 4,
 "nbformat_minor": 2
}
